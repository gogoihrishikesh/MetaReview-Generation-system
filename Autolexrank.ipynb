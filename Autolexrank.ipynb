{
  "nbformat": 4,
  "nbformat_minor": 0,
  "metadata": {
    "colab": {
      "provenance": []
    },
    "kernelspec": {
      "name": "python3",
      "display_name": "Python 3"
    },
    "language_info": {
      "name": "python"
    }
  },
  "cells": [
    {
      "cell_type": "code",
      "source": [
        "pip install sumy"
      ],
      "metadata": {
        "colab": {
          "base_uri": "https://localhost:8080/"
        },
        "id": "7dyLT-s0dJjd",
        "outputId": "0806fb3e-4a51-491f-db8d-165c953ab0bf"
      },
      "execution_count": 1,
      "outputs": [
        {
          "output_type": "stream",
          "name": "stdout",
          "text": [
            "Looking in indexes: https://pypi.org/simple, https://us-python.pkg.dev/colab-wheels/public/simple/\n",
            "Collecting sumy\n",
            "  Downloading sumy-0.11.0-py2.py3-none-any.whl (97 kB)\n",
            "\u001b[2K     \u001b[90m━━━━━━━━━━━━━━━━━━━━━━━━━━━━━━━━━━━━━━━━\u001b[0m \u001b[32m97.3/97.3 KB\u001b[0m \u001b[31m5.0 MB/s\u001b[0m eta \u001b[36m0:00:00\u001b[0m\n",
            "\u001b[?25hCollecting pycountry>=18.2.23\n",
            "  Downloading pycountry-22.3.5.tar.gz (10.1 MB)\n",
            "\u001b[2K     \u001b[90m━━━━━━━━━━━━━━━━━━━━━━━━━━━━━━━━━━━━━━━\u001b[0m \u001b[32m10.1/10.1 MB\u001b[0m \u001b[31m101.6 MB/s\u001b[0m eta \u001b[36m0:00:00\u001b[0m\n",
            "\u001b[?25h  Installing build dependencies ... \u001b[?25l\u001b[?25hdone\n",
            "  Getting requirements to build wheel ... \u001b[?25l\u001b[?25hdone\n",
            "  Preparing metadata (pyproject.toml) ... \u001b[?25l\u001b[?25hdone\n",
            "Collecting docopt<0.7,>=0.6.1\n",
            "  Downloading docopt-0.6.2.tar.gz (25 kB)\n",
            "  Preparing metadata (setup.py) ... \u001b[?25l\u001b[?25hdone\n",
            "Requirement already satisfied: nltk>=3.0.2 in /usr/local/lib/python3.8/dist-packages (from sumy) (3.7)\n",
            "Collecting breadability>=0.1.20\n",
            "  Downloading breadability-0.1.20.tar.gz (32 kB)\n",
            "  Preparing metadata (setup.py) ... \u001b[?25l\u001b[?25hdone\n",
            "Requirement already satisfied: requests>=2.7.0 in /usr/local/lib/python3.8/dist-packages (from sumy) (2.25.1)\n",
            "Requirement already satisfied: chardet in /usr/local/lib/python3.8/dist-packages (from breadability>=0.1.20->sumy) (4.0.0)\n",
            "Requirement already satisfied: lxml>=2.0 in /usr/local/lib/python3.8/dist-packages (from breadability>=0.1.20->sumy) (4.9.2)\n",
            "Requirement already satisfied: regex>=2021.8.3 in /usr/local/lib/python3.8/dist-packages (from nltk>=3.0.2->sumy) (2022.6.2)\n",
            "Requirement already satisfied: tqdm in /usr/local/lib/python3.8/dist-packages (from nltk>=3.0.2->sumy) (4.64.1)\n",
            "Requirement already satisfied: joblib in /usr/local/lib/python3.8/dist-packages (from nltk>=3.0.2->sumy) (1.2.0)\n",
            "Requirement already satisfied: click in /usr/local/lib/python3.8/dist-packages (from nltk>=3.0.2->sumy) (7.1.2)\n",
            "Requirement already satisfied: setuptools in /usr/local/lib/python3.8/dist-packages (from pycountry>=18.2.23->sumy) (57.4.0)\n",
            "Requirement already satisfied: urllib3<1.27,>=1.21.1 in /usr/local/lib/python3.8/dist-packages (from requests>=2.7.0->sumy) (1.24.3)\n",
            "Requirement already satisfied: idna<3,>=2.5 in /usr/local/lib/python3.8/dist-packages (from requests>=2.7.0->sumy) (2.10)\n",
            "Requirement already satisfied: certifi>=2017.4.17 in /usr/local/lib/python3.8/dist-packages (from requests>=2.7.0->sumy) (2022.12.7)\n",
            "Building wheels for collected packages: breadability, docopt, pycountry\n",
            "  Building wheel for breadability (setup.py) ... \u001b[?25l\u001b[?25hdone\n",
            "  Created wheel for breadability: filename=breadability-0.1.20-py2.py3-none-any.whl size=21714 sha256=4e173ba0fc2c938297537d3149f2db1b37c941931e2eba7a7823a4d2b0b2df2d\n",
            "  Stored in directory: /root/.cache/pip/wheels/5f/0d/0c/2062d8c1758b4b1a2e42b4a63e6660d9ec2ba9463cfee9eeab\n",
            "  Building wheel for docopt (setup.py) ... \u001b[?25l\u001b[?25hdone\n",
            "  Created wheel for docopt: filename=docopt-0.6.2-py2.py3-none-any.whl size=13723 sha256=760bddf4e54a4cd07a4cd004a601143ade123749bfebe92347dd4ad11f795e42\n",
            "  Stored in directory: /root/.cache/pip/wheels/56/ea/58/ead137b087d9e326852a851351d1debf4ada529b6ac0ec4e8c\n",
            "  Building wheel for pycountry (pyproject.toml) ... \u001b[?25l\u001b[?25hdone\n",
            "  Created wheel for pycountry: filename=pycountry-22.3.5-py2.py3-none-any.whl size=10681845 sha256=9943927113feb64df4ffc3c93d26cd70f98bbf61dfc15504671b291d1310ede0\n",
            "  Stored in directory: /root/.cache/pip/wheels/e2/aa/0f/c224e473b464387170b83ca7c66947b4a7e33e8d903a679748\n",
            "Successfully built breadability docopt pycountry\n",
            "Installing collected packages: docopt, pycountry, breadability, sumy\n",
            "Successfully installed breadability-0.1.20 docopt-0.6.2 pycountry-22.3.5 sumy-0.11.0\n"
          ]
        }
      ]
    },
    {
      "cell_type": "code",
      "execution_count": 6,
      "metadata": {
        "id": "Ty9Epj5ZdHZj"
      },
      "outputs": [],
      "source": [
        "import openpyxl\n",
        "from openpyxl.utils import get_column_letter\n",
        "from sumy.summarizers.lex_rank import LexRankSummarizer\n",
        "from sumy.nlp.tokenizers import Tokenizer\n",
        "from sumy.parsers.plaintext import PlaintextParser\n",
        "from sumy.utils import get_stop_words\n",
        "\n",
        "def summarize_excel_file(file_path, cell_range, sentences_count=5, threshold=0.1, output_dir=\".\"):\n",
        "    # Load the Excel file and read the three cells\n",
        "    wb = openpyxl.load_workbook(file_path)\n",
        "    ws = wb.active\n",
        "    cell_values = [cell.value for row in ws[cell_range] for cell in row]\n",
        "\n",
        "    # Concatenate the cell values into a single string\n",
        "    text = \"\\n\".join(str(cell) for cell in cell_values)\n",
        "\n",
        "    # Set up the summarizer\n",
        "    LANGUAGE = \"english\"\n",
        "    tokenizer = Tokenizer(LANGUAGE)\n",
        "    parser = PlaintextParser.from_string(text, tokenizer)\n",
        "    summarizer = LexRankSummarizer()\n",
        "\n",
        "    # Set the summarizer parameters\n",
        "    summarizer.stop_words = get_stop_words(LANGUAGE)\n",
        "    summarizer.threshold = threshold\n",
        "\n",
        "    # Generate the summary\n",
        "    summary = \"\"\n",
        "    for sentence in summarizer(parser.document, sentences_count):\n",
        "        summary += str(sentence) + \" \"\n",
        "\n",
        "    # Save the summary to a file\n",
        "    output_file = f\"{output_dir}/metareview.xlsx\"\n",
        "    try:\n",
        "        wb_output = openpyxl.load_workbook(output_file)\n",
        "    except FileNotFoundError:\n",
        "        wb_output = openpyxl.Workbook()\n",
        "    ws_output = wb_output.active\n",
        "    column_letter = 'A'\n",
        "    row_number = ws_output.max_row + 1\n",
        "    cell = ws_output[f\"{column_letter}{row_number}\"]\n",
        "    cell.value = summary.strip()\n",
        "\n",
        "    # Save the output file\n",
        "    wb_output.save(output_file)\n",
        "\n",
        "    # Save the summary to a separate file\n",
        "    output_path = f\"{output_dir}/{file_path.split('/')[-1].replace('.xlsx', '')}_lexrank_summary_{cell_range}.txt\"\n",
        "    with open(output_path, \"w\") as f:\n",
        "        f.write(summary)\n",
        "\n",
        "    print(f\"Summary saved to {output_path}\")\n"
      ]
    },
    {
      "cell_type": "code",
      "source": [
        "import nltk\n",
        "nltk.download('punkt')"
      ],
      "metadata": {
        "colab": {
          "base_uri": "https://localhost:8080/"
        },
        "id": "0FF1_J7ZhDX6",
        "outputId": "a107ead6-651e-4da9-c388-a5e62b5adde1"
      },
      "execution_count": 7,
      "outputs": [
        {
          "output_type": "stream",
          "name": "stderr",
          "text": [
            "[nltk_data] Downloading package punkt to /root/nltk_data...\n",
            "[nltk_data]   Package punkt is already up-to-date!\n"
          ]
        },
        {
          "output_type": "execute_result",
          "data": {
            "text/plain": [
              "True"
            ]
          },
          "metadata": {},
          "execution_count": 7
        }
      ]
    },
    {
      "cell_type": "code",
      "source": [
        "import pandas as pd\n",
        "import openpyxl\n",
        "\n",
        "file_path = \"/content/data2020.xlsx\"\n",
        "for i in range(2, 4):\n",
        "    cell_range = f\"C{i}:E{i}\"\n",
        "    summarize_excel_file(file_path, cell_range)\n",
        "\n",
        "\n",
        "\n",
        "\n",
        "\n"
      ],
      "metadata": {
        "id": "eMF3gBNadU-j",
        "colab": {
          "base_uri": "https://localhost:8080/"
        },
        "outputId": "cc53c056-5a2d-4c6e-995d-9ea7a1d5e827"
      },
      "execution_count": 10,
      "outputs": [
        {
          "output_type": "stream",
          "name": "stdout",
          "text": [
            "Summary saved to ./data2020_lexrank_summary_C2:E2.txt\n",
            "Summary saved to ./data2020_lexrank_summary_C3:E3.txt\n"
          ]
        }
      ]
    },
    {
      "cell_type": "code",
      "source": [],
      "metadata": {
        "id": "Vm-F0iZTdcVD"
      },
      "execution_count": null,
      "outputs": []
    }
  ]
}